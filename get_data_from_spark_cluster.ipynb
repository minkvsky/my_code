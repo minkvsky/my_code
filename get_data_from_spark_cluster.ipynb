{
 "cells": [
  {
   "cell_type": "code",
   "execution_count": null,
   "metadata": {
    "collapsed": true
   },
   "outputs": [],
   "source": []
  },
  {
   "cell_type": "code",
   "execution_count": 9,
   "metadata": {
    "collapsed": true
   },
   "outputs": [],
   "source": [
    "startdate='2016-08-01'\n",
    "enddate='2016-08-31'\n",
    "\n",
    "timeinterval='({}-{})'.format(''.join(startdate.split('-')),''.join(enddate.split('-')))"
   ]
  },
  {
   "cell_type": "code",
   "execution_count": 10,
   "metadata": {
    "collapsed": false
   },
   "outputs": [
    {
     "data": {
      "text/plain": [
       "b'[[\"databaseName\"],[[\"android\"],[\"default\"],[\"test\"],[\"web_site\"]]]'"
      ]
     },
     "execution_count": 10,
     "metadata": {},
     "output_type": "execute_result"
    }
   ],
   "source": [
    "import pandas as pd\n",
    "import numpy as np\n",
    "%matplotlib inline\n",
    "import time\n",
    "import urllib.parse\n",
    "import httplib2\n",
    "import json\n",
    "import datetime\n",
    "import os\n",
    "\n",
    "\n",
    "def getQueryData(sql):\n",
    "    http = httplib2.Http()\n",
    "    url = 'http://ip:port/ConfComputer/sql/select.do'   \n",
    "    body = {'pwd': 'eship001~', 'sql': sql}\n",
    "    headers = {'Content-type': 'application/x-www-form-urlencoded'}\n",
    "    response, content = http.request(url, 'POST', headers=headers, body=urllib.parse.urlencode(body))\n",
    "    return content\n",
    "\n",
    "def get(sql):\n",
    "    dd=getQueryData(sql)\n",
    "    df=pd.read_json(dd)\n",
    "    import numpy as np\n",
    "    ls=[]\n",
    "    index=list(df.iloc[0,:].dropna())\n",
    "    for i in range(len(df.columns)):\n",
    "        if df.iat[1,i] is not None:\n",
    "            ls.append(list(df.iat[1,i]))\n",
    "    dt=np.array(ls).T\n",
    "    ds=pd.DataFrame(index=index,data=dt).T\n",
    "    return ds\n",
    "\n",
    "data=getQueryData('show databases')\n",
    "data"
   ]
  },
  {
   "cell_type": "code",
   "execution_count": 11,
   "metadata": {
    "collapsed": false
   },
   "outputs": [],
   "source": [
    "folder='F:/sunbl_notebooks/andriodmonthreport'+timeinterval\n",
    "if not os.path.exists(folder):\n",
    "    os.mkdir(folder)"
   ]
  },
  {
   "cell_type": "code",
   "execution_count": 12,
   "metadata": {
    "collapsed": true
   },
   "outputs": [],
   "source": [
    "start=time.time()"
   ]
  },
  {
   "cell_type": "code",
   "execution_count": 13,
   "metadata": {
    "collapsed": true
   },
   "outputs": [],
   "source": [
    "def to_tuple_sql(app_version):\n",
    "    if type(app_version) == str:\n",
    "        temp=list([app_version])\n",
    "        temp.append('all')\n",
    "        return tuple(temp)\n",
    "    if type(app_version) == list:\n",
    "        return tuple(app_version)\n",
    " \n",
    "def select_data(want,startdate,enddate,groupby=None,\n",
    "               app_version=None,con=None,orderby=None):\n",
    "    '''\n",
    "    基本取数函数\n",
    "    orderby='dt' or  'dt desc'\n",
    "    '''\n",
    "    sql='use android;'\n",
    "    sql+=\"select {} from android_log_data\".format(want)\n",
    "    sql+=\" where dt between '{}' and '{}'\".format(startdate,enddate)\n",
    "    #清洗数据\n",
    "    sql+=\" and app_version like '%.%.%' and length(app_version)<10\"\n",
    "    sql+=\" and visit_path not like '-%-%'\"\n",
    "    #sql+=''' and visit_path != \"cz-\"''' #\"cz-\"表示为空之意\n",
    "    \n",
    "    if app_version is not None:\n",
    "        sql+=\" and app_version in {}\".format(to_tuple_sql(app_version))\n",
    "    \n",
    "    if con is not None:\n",
    "        sql+=con\n",
    "        \n",
    "    if groupby is not None:\n",
    "        sql+=\" group by {}\".format(groupby)\n",
    "    if orderby is not None:\n",
    "        sql+=\" order by {}\".format(orderby)\n",
    "    \n",
    "    sql+=' limit 10000'\n",
    "    \n",
    "    start=time.time()\n",
    "    df=get(sql)\n",
    "    end=time.time()\n",
    "    print(end-start)\n",
    "    \n",
    "    return df,sql\n",
    "\n",
    "def Series_digitalize(s):\n",
    "    '''\n",
    "    datatype_ls=['float','int']\n",
    "    '''\n",
    "    ls=[]\n",
    "    for j in s :\n",
    "        try:\n",
    "            ls.append(float(j)) \n",
    "        except:\n",
    "            ls.append(j)\n",
    "    Se=pd.Series(ls)\n",
    "    return Se"
   ]
  },
  {
   "cell_type": "markdown",
   "metadata": {},
   "source": [
    "# 指标概况"
   ]
  },
  {
   "cell_type": "code",
   "execution_count": 14,
   "metadata": {
    "collapsed": true
   },
   "outputs": [],
   "source": [
    "name='指标概况'"
   ]
  },
  {
   "cell_type": "markdown",
   "metadata": {},
   "source": [
    "访问深度？这是怎么意思呢？\n",
    "这个比较复杂，先放下"
   ]
  },
  {
   "cell_type": "code",
   "execution_count": 20,
   "metadata": {
    "collapsed": false,
    "scrolled": true
   },
   "outputs": [
    {
     "name": "stdout",
     "output_type": "stream",
     "text": [
      "227.5340142250061\n"
     ]
    }
   ],
   "source": [
    "want=\"app_version,count(distinct tracking_id) as uv,count(if(page_name is null,1,null)) as hits,count(launch_event),\\\n",
    "sum(previous_session_length) as visit_session_length\"\n",
    "df,sql=select_data(want,startdate,enddate,groupby='app_version',app_version=['5.6.1','5.6.0','5.5.1','5.5.0','5.4.0','5.3.0','5.2.0'])"
   ]
  },
  {
   "cell_type": "code",
   "execution_count": null,
   "metadata": {
    "collapsed": true
   },
   "outputs": [],
   "source": [
    "df=df.sort_values(by='app_version',ascending=False)"
   ]
  },
  {
   "cell_type": "code",
   "execution_count": null,
   "metadata": {
    "collapsed": true
   },
   "outputs": [],
   "source": [
    "df['人均点击']=list(Series_digitalize(df.iloc[:,2])/Series_digitalize(df.iloc[:,1]))\n",
    "df['人均启动次数']=list(Series_digitalize(df.iloc[:,3])/Series_digitalize(df.iloc[:,1]))\n",
    "df['人均访问时长']=list(Series_digitalize(df.iloc[:,4])/Series_digitalize(df.iloc[:,1]))\n",
    "\n",
    "df.columns=['app_version', 'uv', 'hits', '启动次数',\n",
    "       '访问时长', '人均点击', '人均启动次数', '人均访问时长']\n",
    "\n",
    "path=folder+'/'+name+'.xlsx'\n",
    "df.to_excel(path)"
   ]
  },
  {
   "cell_type": "code",
   "execution_count": null,
   "metadata": {
    "collapsed": false,
    "scrolled": true
   },
   "outputs": [],
   "source": [
    "df"
   ]
  },
  {
   "cell_type": "markdown",
   "metadata": {},
   "source": [
    "# 用户规模：uv，hits"
   ]
  },
  {
   "cell_type": "code",
   "execution_count": null,
   "metadata": {
    "collapsed": true
   },
   "outputs": [],
   "source": [
    "name='用户规模'\n",
    "name_num=0"
   ]
  },
  {
   "cell_type": "code",
   "execution_count": null,
   "metadata": {
    "collapsed": false
   },
   "outputs": [],
   "source": [
    "want=\"count(distinct tracking_id) as uv,count(if(page_name is null,1,null)) as hits\"\n",
    "df,sql=select_data(want,startdate,enddate)"
   ]
  },
  {
   "cell_type": "code",
   "execution_count": null,
   "metadata": {
    "collapsed": true
   },
   "outputs": [],
   "source": [
    "path=folder+'/'+name+'{}.xlsx'.format(name_num)\n",
    "df.to_excel(path)\n",
    "name_num+=1"
   ]
  },
  {
   "cell_type": "code",
   "execution_count": null,
   "metadata": {
    "collapsed": false
   },
   "outputs": [],
   "source": [
    "# 月活跃，月点击\n",
    "df"
   ]
  },
  {
   "cell_type": "code",
   "execution_count": null,
   "metadata": {
    "collapsed": false
   },
   "outputs": [],
   "source": [
    "want=\"dt,count(distinct tracking_id) as uv,count(if(page_name is null,1,null)) as hits\"\n",
    "df,sql=select_data(want,startdate,enddate='2016-08-19',groupby='dt')"
   ]
  },
  {
   "cell_type": "code",
   "execution_count": null,
   "metadata": {
    "collapsed": true
   },
   "outputs": [],
   "source": [
    "path=folder+'/'+name+'{}.xlsx'.format(name_num)\n",
    "df.to_excel(path)\n",
    "name_num+=1"
   ]
  },
  {
   "cell_type": "code",
   "execution_count": null,
   "metadata": {
    "collapsed": false
   },
   "outputs": [],
   "source": [
    "#日活跃，日点击\n",
    "df"
   ]
  },
  {
   "cell_type": "code",
   "execution_count": null,
   "metadata": {
    "collapsed": false
   },
   "outputs": [],
   "source": [
    "print('日均uv：{}'.format(Series_digitalize(df.uv).mean()))\n",
    "print('日均hits：{}'.format(Series_digitalize(df.hits).mean()))"
   ]
  },
  {
   "cell_type": "code",
   "execution_count": null,
   "metadata": {
    "collapsed": false
   },
   "outputs": [],
   "source": [
    "# 用户构成 ——此处可调整，加快速度_不能改啊\n",
    "#按登录状态：电信用户免登录\n",
    "#有支付\n",
    "ls_data=[]\n",
    "\n",
    "want=\"count(distinct tracking_id) as uv\"\n",
    "df,sql=select_data(want,startdate,enddate)\n",
    "\n",
    "ls_data.append(df.iat[0,0])\n",
    "\n",
    "want=\"count(distinct tracking_id) as uv\"\n",
    "con=\" and login_status is not null\"\n",
    "df,sql=select_data(want,startdate,enddate,con=con)\n",
    "\n",
    "ls_data.append(df.iat[0,0])\n",
    "\n",
    "want=\"count(distinct tracking_id) as uv\"\n",
    "con=\" and carrier_name='中国电信'\"\n",
    "df,sql=select_data(want,startdate,enddate,con=con)\n",
    "\n",
    "ls_data.append(df.iat[0,0])\n",
    "\n",
    "want=\"count(distinct tracking_id) as uv\"\n",
    "con=\" and order_payment='1'\"\n",
    "df,sql=select_data(want,startdate,enddate,con=con)\n",
    "\n",
    "ls_data.append(df.iat[0,0])\n",
    "\n",
    "df=pd.DataFrame(ls_data,index=['uv','login','login_电信','有支付'])\n",
    "\n",
    "path=folder+'/'+name+'{}.xlsx'.format(name_num)\n",
    "df.to_excel(path)\n",
    "name_num+=1"
   ]
  },
  {
   "cell_type": "code",
   "execution_count": null,
   "metadata": {
    "collapsed": false
   },
   "outputs": [],
   "source": [
    "df"
   ]
  },
  {
   "cell_type": "code",
   "execution_count": null,
   "metadata": {
    "collapsed": false
   },
   "outputs": [],
   "source": [
    "#按使用天数状态\n",
    "want=\"days_since_first_use,count(distinct tracking_id) as uv\"\n",
    "\n",
    "df,sql=select_data(want,startdate,enddate,groupby='days_since_first_use')"
   ]
  },
  {
   "cell_type": "code",
   "execution_count": null,
   "metadata": {
    "collapsed": true
   },
   "outputs": [],
   "source": [
    "df['days_since_first_use']=list(Series_digitalize(df.iloc[:,0]))\n",
    "\n",
    "con=[]\n",
    "for s in df['days_since_first_use']:\n",
    "    try:\n",
    "        con.append(s>=0)\n",
    "    except:\n",
    "        con.append(False)\n",
    "\n",
    "dfn=df[con].sort_values(by='days_since_first_use')"
   ]
  },
  {
   "cell_type": "code",
   "execution_count": null,
   "metadata": {
    "collapsed": false,
    "scrolled": true
   },
   "outputs": [],
   "source": [
    "dfn.head(30)"
   ]
  },
  {
   "cell_type": "code",
   "execution_count": null,
   "metadata": {
    "collapsed": true
   },
   "outputs": [],
   "source": [
    "path=folder+'/'+name+'{}.xlsx'.format(name_num)\n",
    "dfn.head(30).to_excel(path)\n",
    "name_num+=1"
   ]
  },
  {
   "cell_type": "markdown",
   "metadata": {},
   "source": [
    "# 版本更新用户迁移：略"
   ]
  },
  {
   "cell_type": "markdown",
   "metadata": {},
   "source": [
    "# 渠道分析"
   ]
  },
  {
   "cell_type": "code",
   "execution_count": null,
   "metadata": {
    "collapsed": true
   },
   "outputs": [],
   "source": [
    "name='渠道分析'\n",
    "name_num=0"
   ]
  },
  {
   "cell_type": "code",
   "execution_count": null,
   "metadata": {
    "collapsed": false
   },
   "outputs": [],
   "source": [
    "want=\"channels,count(distinct tracking_id) as uv,count(install_event),count(launch_event),\\\n",
    "sum(previous_session_length) as visit_session_length\"\n",
    "df,sql=select_data(want,startdate,enddate,groupby='channels')"
   ]
  },
  {
   "cell_type": "code",
   "execution_count": null,
   "metadata": {
    "collapsed": false,
    "scrolled": true
   },
   "outputs": [],
   "source": [
    "con=[s is not None for s in df.iloc[:,0]]\n",
    "df=df[con]"
   ]
  },
  {
   "cell_type": "markdown",
   "metadata": {},
   "source": [
    "新增用户占比：渠道份额所选时间内，所选渠道的新增用户占所有渠道新增用户总量的比例。（不含渠道None）\n",
    "活跃用户占比：当前渠道活跃用户数/所有渠道活跃用户总量的比例。\n",
    "新增活跃占比：当前渠道的新增用户数/当前渠道的活跃用户数的比例"
   ]
  },
  {
   "cell_type": "code",
   "execution_count": null,
   "metadata": {
    "collapsed": true
   },
   "outputs": [],
   "source": [
    "new_sum=Series_digitalize(df.iloc[:,2]).sum()\n",
    "active_sum=Series_digitalize(df.iloc[:,1]).sum()"
   ]
  },
  {
   "cell_type": "code",
   "execution_count": null,
   "metadata": {
    "collapsed": true
   },
   "outputs": [],
   "source": [
    "df['新增用户占比']=list(Series_digitalize(df.iloc[:,2])/new_sum)\n",
    "df['活跃用户占比']=list(Series_digitalize(df.iloc[:,1])/active_sum)\n",
    "df['新增活跃占比']=list(Series_digitalize(df.iloc[:,2])/Series_digitalize(df.iloc[:,1]))\n",
    "df['人均启动次数']=list(Series_digitalize(df.iloc[:,3])/Series_digitalize(df.iloc[:,1]))\n",
    "df['次均使用时长']=list(Series_digitalize(df.iloc[:,4])/Series_digitalize(df.iloc[:,3]))"
   ]
  },
  {
   "cell_type": "code",
   "execution_count": null,
   "metadata": {
    "collapsed": false,
    "scrolled": true
   },
   "outputs": [],
   "source": [
    "df"
   ]
  },
  {
   "cell_type": "code",
   "execution_count": null,
   "metadata": {
    "collapsed": true
   },
   "outputs": [],
   "source": [
    "path=folder+'/'+name+'{}.xlsx'.format(name_num)\n",
    "df.to_excel(path)\n",
    "name_num+=1"
   ]
  },
  {
   "cell_type": "markdown",
   "metadata": {},
   "source": [
    "# 留存分析:数据结果不正常，不清楚数据问题还是算法问题"
   ]
  },
  {
   "cell_type": "markdown",
   "metadata": {},
   "source": [
    "app_version:5.6,5.6.1"
   ]
  },
  {
   "cell_type": "markdown",
   "metadata": {},
   "source": [
    "此处计算量较大，消耗计算资源多"
   ]
  },
  {
   "cell_type": "code",
   "execution_count": null,
   "metadata": {
    "collapsed": true
   },
   "outputs": [],
   "source": [
    "name='留存分析'\n",
    "name_num=0"
   ]
  },
  {
   "cell_type": "markdown",
   "metadata": {},
   "source": [
    "0816日留存：考虑的是此日的新增用户，用的是之后的数据"
   ]
  },
  {
   "cell_type": "code",
   "execution_count": null,
   "metadata": {
    "collapsed": true
   },
   "outputs": [],
   "source": [
    "def newdate(dt,days):\n",
    "    ndate=datetime.datetime.strptime(dt,'%Y-%m-%d')+datetime.timedelta(days)\n",
    "    newdate=ndate.strftime('%Y-%m-%d')\n",
    "    return newdate"
   ]
  },
  {
   "cell_type": "code",
   "execution_count": null,
   "metadata": {
    "collapsed": false
   },
   "outputs": [],
   "source": [
    "app_version_ls=['5.6.1','5.6.0']\n",
    "\n",
    "want=\"dt,count(install_event)\"\n",
    "df0,sql=select_data(want,startdate,enddate,app_version=app_version_ls,groupby='dt',orderby='dt')"
   ]
  },
  {
   "cell_type": "code",
   "execution_count": null,
   "metadata": {
    "collapsed": false
   },
   "outputs": [],
   "source": [
    "days_ls=[0,6,13]\n",
    "df_ls=[df0]\n",
    "for s in days_ls:\n",
    "    want=\"dt,count(distinct tracking_id)\"\n",
    "    con=\" and days_since_first_use in {}\".format(to_tuple_sql((str(s))))\n",
    "    df,sql=select_data(want,newdate(startdate,s),newdate(enddate,s),app_version=app_version_ls,groupby='dt',con=con,orderby='dt')\n",
    "    df_ls.append(df)\n",
    "\n",
    "df_dict={'0':pd.Series(df0.iloc[:,1])}\n",
    "for i,s in enumerate(days_ls):\n",
    "    df_dict[str(s+1)]=pd.Series(list(df_ls[i].iloc[:,1]))\n",
    "\n",
    "dfn=pd.DataFrame(df_dict)\n",
    "\n",
    "dfn.index=df0['dt']\n",
    "\n",
    "\n",
    "\n",
    "path=folder+'/'+name+'{}{}.xlsx'.format(app_version_ls,name_num)\n",
    "dfn.to_excel(path)\n",
    "name_num+=1"
   ]
  },
  {
   "cell_type": "code",
   "execution_count": null,
   "metadata": {
    "collapsed": false
   },
   "outputs": [],
   "source": [
    "dfn"
   ]
  },
  {
   "cell_type": "markdown",
   "metadata": {},
   "source": [
    "####  增加留存率"
   ]
  },
  {
   "cell_type": "markdown",
   "metadata": {},
   "source": [
    "# 内容分析"
   ]
  },
  {
   "cell_type": "code",
   "execution_count": null,
   "metadata": {
    "collapsed": true
   },
   "outputs": [],
   "source": [
    "name='内容分析'\n",
    "name_num=0"
   ]
  },
  {
   "cell_type": "code",
   "execution_count": null,
   "metadata": {
    "collapsed": false
   },
   "outputs": [],
   "source": [
    "want=\"visit_path,count(distinct tracking_id) as uv,count(1) as hits\"\n",
    "df,sql=select_data(want,startdate,enddate,groupby='visit_path',orderby='uv desc')\n",
    "\n",
    "df['人均点击']=list(Series_digitalize(df.iloc[:,2])/Series_digitalize(df.iloc[:,1]))\n",
    "\n",
    "path=folder+'/'+name+'{}.xlsx'.format(name_num)\n",
    "df.to_excel(path)\n",
    "name_num+=1"
   ]
  },
  {
   "cell_type": "code",
   "execution_count": null,
   "metadata": {
    "collapsed": false
   },
   "outputs": [],
   "source": [
    "df"
   ]
  },
  {
   "cell_type": "code",
   "execution_count": null,
   "metadata": {
    "collapsed": false
   },
   "outputs": [],
   "source": [
    "# 分版本\n",
    "want=\"app_version,visit_path,count(distinct tracking_id) as uv,count(1) as hits\"\n",
    "df,sql=select_data(want,startdate,enddate,groupby='app_version,visit_path',orderby='uv desc',\n",
    "                   app_version=['5.6.1','5.6.0','5.5.1','5.5.0','5.4.0','5.3.0','5.2.0'])\n",
    "\n",
    "path=folder+'/'+name+'{}.xlsx'.format(name_num)\n",
    "df.to_excel(path)\n",
    "name_num+=1"
   ]
  },
  {
   "cell_type": "code",
   "execution_count": null,
   "metadata": {
    "collapsed": false,
    "scrolled": true
   },
   "outputs": [],
   "source": [
    "df"
   ]
  },
  {
   "cell_type": "markdown",
   "metadata": {},
   "source": [
    "# 频道流量"
   ]
  },
  {
   "cell_type": "code",
   "execution_count": null,
   "metadata": {
    "collapsed": true
   },
   "outputs": [],
   "source": [
    "name='频道流量'\n",
    "name_num=0"
   ]
  },
  {
   "cell_type": "code",
   "execution_count": null,
   "metadata": {
    "collapsed": false
   },
   "outputs": [],
   "source": [
    "#导航频道\n",
    "want=\"navigation_click,count(distinct tracking_id) as uv,count(if(page_name is null,1,null)) as hits\"\n",
    "df,sql=select_data(want,startdate,enddate,groupby='navigation_click',orderby='uv desc')\n",
    "\n",
    "path=folder+'/'+name+'{}.xlsx'.format(name_num)\n",
    "df.to_excel(path)\n",
    "name_num+=1"
   ]
  },
  {
   "cell_type": "code",
   "execution_count": null,
   "metadata": {
    "collapsed": false
   },
   "outputs": [],
   "source": [
    "df"
   ]
  },
  {
   "cell_type": "code",
   "execution_count": null,
   "metadata": {
    "collapsed": false
   },
   "outputs": [],
   "source": [
    "want=\"app_version,navigation_click,count(distinct tracking_id) as uv,count(if(page_name is null,1,null)) as hits\"\n",
    "df,sql=select_data(want,startdate,enddate,groupby='app_version,navigation_click',orderby='uv desc',\n",
    "                  app_version=['5.6.1','5.6.0','5.5.1','5.5.0'])\n",
    "\n",
    "path=folder+'/'+name+'{}.xlsx'.format(name_num)\n",
    "df.to_excel(path)\n",
    "name_num+=1"
   ]
  },
  {
   "cell_type": "code",
   "execution_count": null,
   "metadata": {
    "collapsed": false,
    "scrolled": true
   },
   "outputs": [],
   "source": [
    "df"
   ]
  },
  {
   "cell_type": "markdown",
   "metadata": {},
   "source": [
    "# 频道点击偏好分析"
   ]
  },
  {
   "cell_type": "code",
   "execution_count": null,
   "metadata": {
    "collapsed": true
   },
   "outputs": [],
   "source": [
    "name='频道点击偏好分析'\n",
    "name_num=0"
   ]
  },
  {
   "cell_type": "code",
   "execution_count": null,
   "metadata": {
    "collapsed": false
   },
   "outputs": [],
   "source": [
    "#首页频道：没加‘在线时长’——不懂，没有‘按天的数据’——需要明确首页焦点图有哪些，针对取数\n",
    "want=\"home_click,count(distinct tracking_id) as uv,count(if(page_name is null,1,null)) as hits\"\n",
    "df,sql=select_data(want,startdate,enddate,groupby='home_click',orderby='uv desc',\n",
    "                  app_version=['5.6.1','5.6.0'])\n",
    "app_version=['5.6.1','5.6.0']\n",
    "path=folder+'/'+name+'{}{}.xlsx'.format(app_version,name_num)\n",
    "df.to_excel(path)\n",
    "name_num+=1"
   ]
  },
  {
   "cell_type": "code",
   "execution_count": null,
   "metadata": {
    "collapsed": false,
    "scrolled": true
   },
   "outputs": [],
   "source": [
    "df"
   ]
  },
  {
   "cell_type": "markdown",
   "metadata": {},
   "source": [
    "#首页焦点图：从上面筛选"
   ]
  },
  {
   "cell_type": "code",
   "execution_count": null,
   "metadata": {
    "collapsed": false
   },
   "outputs": [],
   "source": [
    "#查询办理——手机页面访客量及户均点击量\n",
    "#查询办理——宽带页面访客量及户均点击量\n",
    "#——没提上月数据\n",
    "want=\"query_transact_click,count(distinct tracking_id) as uv,count(if(page_name is null,1,null)) as hits\"\n",
    "df,sql=select_data(want,startdate,enddate,groupby='query_transact_click',orderby='uv desc',\n",
    "                  app_version=['5.6.1','5.6.0'])\n",
    "\n",
    "path=folder+'/'+name+'{}.xlsx'.format(name_num)\n",
    "df.to_excel(path)\n",
    "name_num+=1"
   ]
  },
  {
   "cell_type": "code",
   "execution_count": null,
   "metadata": {
    "collapsed": false,
    "scrolled": true
   },
   "outputs": [],
   "source": [
    "con=[]\n",
    "for s in df.query_transact_click:\n",
    "    try:\n",
    "        con.append('宽带' in s)\n",
    "    except:\n",
    "        con.append(False)\n",
    "\n",
    "path=folder+'/'+name+'{}.xlsx'.format(name_num)\n",
    "df[con].to_excel(path)\n",
    "name_num+=1"
   ]
  },
  {
   "cell_type": "code",
   "execution_count": null,
   "metadata": {
    "collapsed": false,
    "scrolled": true
   },
   "outputs": [],
   "source": [
    "df[con]"
   ]
  },
  {
   "cell_type": "code",
   "execution_count": null,
   "metadata": {
    "collapsed": true
   },
   "outputs": [],
   "source": [
    "con=[]\n",
    "for s in df.query_transact_click:\n",
    "    try:\n",
    "        con.append('手机' in s)\n",
    "    except:\n",
    "        con.append(False)\n",
    "\n",
    "path=folder+'/'+name+'{}.xlsx'.format(name_num)\n",
    "df[con].to_excel(path)\n",
    "name_num+=1"
   ]
  },
  {
   "cell_type": "code",
   "execution_count": null,
   "metadata": {
    "collapsed": false,
    "scrolled": true
   },
   "outputs": [],
   "source": [
    "df[con]"
   ]
  },
  {
   "cell_type": "code",
   "execution_count": null,
   "metadata": {
    "collapsed": true
   },
   "outputs": [],
   "source": [
    "#查询办理：主要功能点直连、非直连访问量\n",
    "#直连省：安徽省','北京市','福建省','甘肃省','广东省','湖南省','江苏省','江西省','山东省','山西省','四川省','天津市','西藏省','浙江省','重庆市\n",
    "#非直连省：云南省','新疆省','上海市','陕西省','青海省','宁夏省','内蒙古','辽宁省','吉林省','湖北省','黑龙江省','河南省','河北省','海南省','贵州省','广西省\n",
    "\n",
    "zhi_ls=['安徽省','北京市','福建省','甘肃省','广东省','湖南省','江苏省','江西省','山东省','山西省','四川省','天津市','西藏省','浙江省','重庆市']\n",
    "nozhi_ls=['云南省','新疆省','上海市','陕西省','青海省','宁夏省','内蒙古','辽宁省','吉林省','湖北省','黑龙江省','河南省','河北省','海南省','贵州省','广西省']"
   ]
  },
  {
   "cell_type": "code",
   "execution_count": null,
   "metadata": {
    "collapsed": false
   },
   "outputs": [],
   "source": [
    "#直连\n",
    "want=\"query_transact_click,count(distinct tracking_id) as uv,count(if(page_name is null,1,null)) as hits\"\n",
    "con=\" and province in {}\".format(to_tuple_sql(zhi_ls))\n",
    "df,sql=select_data(want,startdate,enddate,groupby='query_transact_click',orderby='uv desc',\n",
    "                  app_version=['5.6.1','5.6.0'],con=con)\n",
    "\n",
    "path=folder+'/'+name+'{}.xlsx'.format(name_num)\n",
    "df.to_excel(path)\n",
    "name_num+=1"
   ]
  },
  {
   "cell_type": "code",
   "execution_count": null,
   "metadata": {
    "collapsed": false,
    "scrolled": true
   },
   "outputs": [],
   "source": [
    "df"
   ]
  },
  {
   "cell_type": "code",
   "execution_count": null,
   "metadata": {
    "collapsed": false
   },
   "outputs": [],
   "source": [
    "#非直连\n",
    "want=\"query_transact_click,count(distinct tracking_id) as uv,count(if(page_name is null,1,null)) as hits\"\n",
    "con=\" and province in {}\".format(to_tuple_sql(nozhi_ls))\n",
    "df,sql=select_data(want,startdate,enddate,groupby='query_transact_click',orderby='uv desc',\n",
    "                  app_version=['5.6.1','5.6.0'],con=con)\n",
    "\n",
    "path=folder+'/'+name+'{}.xlsx'.format(name_num)\n",
    "df.to_excel(path)\n",
    "name_num+=1"
   ]
  },
  {
   "cell_type": "code",
   "execution_count": null,
   "metadata": {
    "collapsed": false,
    "scrolled": true
   },
   "outputs": [],
   "source": [
    "df"
   ]
  },
  {
   "cell_type": "code",
   "execution_count": null,
   "metadata": {
    "collapsed": false
   },
   "outputs": [],
   "source": [
    "#充值频道：访客量及户均点击量\n",
    "want=\"paybtn_click,count(distinct tracking_id) as uv,count(if(page_name is null,1,null)) as hits\"\n",
    "df,sql=select_data(want,startdate,enddate,groupby='paybtn_click',orderby='uv desc',\n",
    "                  app_version=['5.6.1','5.6.0'])\n",
    "\n",
    "path=folder+'/'+name+'{}.xlsx'.format(name_num)\n",
    "df.to_excel(path)\n",
    "name_num+=1"
   ]
  },
  {
   "cell_type": "code",
   "execution_count": null,
   "metadata": {
    "collapsed": false,
    "scrolled": true
   },
   "outputs": [],
   "source": [
    "df"
   ]
  },
  {
   "cell_type": "code",
   "execution_count": null,
   "metadata": {
    "collapsed": false
   },
   "outputs": [],
   "source": [
    "#更多频道：访客量及户均点击量\n",
    "\n",
    "want=\"more_click,count(distinct tracking_id) as uv,count(if(page_name is null,1,null)) as hits\"\n",
    "df,sql=select_data(want,startdate,enddate,groupby='more_click',orderby='uv desc',\n",
    "                  app_version=['5.6.1','5.6.0'])\n",
    "\n",
    "path=folder+'/'+name+'{}.xlsx'.format(name_num)\n",
    "df.to_excel(path)\n",
    "name_num+=1"
   ]
  },
  {
   "cell_type": "code",
   "execution_count": null,
   "metadata": {
    "collapsed": false,
    "scrolled": true
   },
   "outputs": [],
   "source": [
    "df"
   ]
  },
  {
   "cell_type": "code",
   "execution_count": null,
   "metadata": {
    "collapsed": true
   },
   "outputs": [],
   "source": [
    "def uv_hits_click(click,startdate,enddate):\n",
    "    want=\"{},count(distinct tracking_id) as uv,count(if(page_name is null,1,null)) as hits\".format(click)\n",
    "    df,sql=select_data(want,startdate,enddate,groupby=click,orderby='uv desc',\n",
    "                  app_version=['5.6.1','5.6.0'])\n",
    "    return df,sql"
   ]
  },
  {
   "cell_type": "code",
   "execution_count": null,
   "metadata": {
    "collapsed": false
   },
   "outputs": [],
   "source": [
    "#我的页面频道\n",
    "\n",
    "click='information_click'\n",
    "app_version=['5.6.1','5.6.0']\n",
    "df,sql=uv_hits_click(click,startdate,enddate)\n",
    "\n",
    "path=folder+'/'+name+'{}{}.xlsx'.format(app_version,name_num)\n",
    "df.to_excel(path)\n",
    "name_num+=1"
   ]
  },
  {
   "cell_type": "code",
   "execution_count": null,
   "metadata": {
    "collapsed": false,
    "scrolled": true
   },
   "outputs": [],
   "source": [
    "df"
   ]
  },
  {
   "cell_type": "markdown",
   "metadata": {},
   "source": [
    "#人均点击量，可以做个函数的"
   ]
  },
  {
   "cell_type": "code",
   "execution_count": null,
   "metadata": {
    "collapsed": false
   },
   "outputs": [],
   "source": [
    "# 商城频道：分类产品转化\n",
    "click='product_category'\n",
    "app_version=['5.6.1','5.6.0']\n",
    "want=\"{},count(distinct tracking_id) as uv,count(if(page_name is null,1,null)) as hits\".format(click)\n",
    "df,sql=select_data(want,startdate,enddate,groupby=click,orderby='uv desc',\n",
    "                  app_version=['5.6.1','5.6.0'])\n",
    "\n",
    "path=folder+'/'+name+'{}{}.xlsx'.format(app_version,name_num)\n",
    "df.to_excel(path)\n",
    "name_num+=1"
   ]
  },
  {
   "cell_type": "code",
   "execution_count": null,
   "metadata": {
    "collapsed": false
   },
   "outputs": [],
   "source": [
    "df"
   ]
  },
  {
   "cell_type": "code",
   "execution_count": null,
   "metadata": {
    "collapsed": false
   },
   "outputs": [],
   "source": [
    "# 商城频道：访客量TOP20产品户均点击情况\n",
    "#—— orderflow数据没加\n",
    "click='product_name'\n",
    "app_version=['5.6.1','5.6.0']\n",
    "want=\"{},count(distinct tracking_id) as uv,count(if(page_name is null,1,null)) as hits\".format(click)\n",
    "df,sql=select_data(want,startdate,enddate,groupby=click,orderby='uv desc',\n",
    "                  app_version=['5.6.1','5.6.0'])\n",
    "\n",
    "path=folder+'/'+name+'{}{}.xlsx'.format(app_version,name_num)\n",
    "df.to_excel(path)\n",
    "name_num+=1"
   ]
  },
  {
   "cell_type": "code",
   "execution_count": null,
   "metadata": {
    "collapsed": false,
    "scrolled": true
   },
   "outputs": [],
   "source": [
    "df"
   ]
  },
  {
   "cell_type": "code",
   "execution_count": null,
   "metadata": {
    "collapsed": false
   },
   "outputs": [],
   "source": [
    "# 商城频道-手机类产品相关数据\n",
    "click='product_name'\n",
    "app_version=['5.6.1','5.6.0']\n",
    "con=\" and product_category='1'\"\n",
    "#orderflow='product_details,order_confirms,order_payment'\n",
    "want=\"{},count(distinct tracking_id) as uv,count(if(page_name is null,1,null)) as hits\".format(click)\n",
    "for i in [1,2,3,4,5]:\n",
    "    want+=\",count(case when mall_events='mall1{}' then 1 else null end) as mall1{}\".format(str(i),str(i))\n",
    "df,sql=select_data(want,startdate,enddate,groupby=click,orderby='uv desc',\n",
    "                  app_version=['5.6.1','5.6.0'],con=con)\n",
    "\n",
    "path=folder+'/'+name+'{}{}.xlsx'.format(app_version,name_num)\n",
    "df.to_excel(path)\n",
    "name_num+=1"
   ]
  },
  {
   "cell_type": "code",
   "execution_count": null,
   "metadata": {
    "collapsed": false,
    "scrolled": true
   },
   "outputs": [],
   "source": [
    "df"
   ]
  },
  {
   "cell_type": "code",
   "execution_count": null,
   "metadata": {
    "collapsed": false
   },
   "outputs": [],
   "source": [
    "# 商城频道-套餐产品相关数据 \n",
    "click='product_name'\n",
    "app_version=['5.6.1','5.6.0']\n",
    "con=\" and product_category='3'\"\n",
    "want=\"{},count(distinct tracking_id) as uv,count(if(page_name is null,1,null)) as hits\".format(click)\n",
    "for i in [1,2,3,4,5]:\n",
    "    want+=\",count(case when mall_events='mall3{}' then 1 else null end) as mall3{}\".format(str(i),str(i))\n",
    "df,sql=select_data(want,startdate,enddate,groupby=click,orderby='uv desc',\n",
    "                  app_version=['5.6.1','5.6.0'],con=con)\n",
    "\n",
    "path=folder+'/'+name+'{}{}.xlsx'.format(app_version,name_num)\n",
    "df.to_excel(path)\n",
    "name_num+=1"
   ]
  },
  {
   "cell_type": "code",
   "execution_count": null,
   "metadata": {
    "collapsed": false,
    "scrolled": true
   },
   "outputs": [],
   "source": [
    "df"
   ]
  },
  {
   "cell_type": "code",
   "execution_count": null,
   "metadata": {
    "collapsed": false
   },
   "outputs": [],
   "source": [
    "# 商城频道-号码产品相关数据 \n",
    "click='product_name'\n",
    "app_version=['5.6.1','5.6.0']\n",
    "con=\" and product_category='4'\"\n",
    "want=\"{},count(distinct tracking_id) as uv,count(if(page_name is null,1,null)) as hits\".format(click)\n",
    "for i in [1,2,3,4,5]:\n",
    "    want+=\",count(case when mall_events='mall4{}' then 1 else null end) as mall4{}\".format(str(i),str(i))\n",
    "\n",
    "df,sql=select_data(want,startdate,enddate,groupby=click,orderby='uv desc',\n",
    "                  app_version=['5.6.1','5.6.0'],con=con)\n",
    "\n",
    "path=folder+'/'+name+'{}{}.xlsx'.format(app_version,name_num)\n",
    "df.to_excel(path)\n",
    "name_num+=1"
   ]
  },
  {
   "cell_type": "code",
   "execution_count": null,
   "metadata": {
    "collapsed": false
   },
   "outputs": [],
   "source": [
    "df"
   ]
  },
  {
   "cell_type": "code",
   "execution_count": null,
   "metadata": {
    "collapsed": false
   },
   "outputs": [],
   "source": [
    "# 商城频道-套餐产品相关数据 \n",
    "click='product_name'\n",
    "app_version=['5.6.1','5.6.0']\n",
    "con=\" and product_category='5'\"\n",
    "want=\"{},count(distinct tracking_id) as uv,count(if(page_name is null,1,null)) as hits\".format(click)\n",
    "for i in [1,2,3,4,5]:\n",
    "    want+=\",count(case when mall_events='mall5{}' then 1 else null end) as mall5{}\".format(str(i),str(i))\n",
    "\n",
    "df,sql=select_data(want,startdate,enddate,groupby=click,orderby='uv desc',\n",
    "                  app_version=['5.6.1','5.6.0'],con=con)\n",
    "\n",
    "path=folder+'/'+name+'{}{}.xlsx'.format(app_version,name_num)\n",
    "df.to_excel(path)\n",
    "name_num+=1"
   ]
  },
  {
   "cell_type": "code",
   "execution_count": null,
   "metadata": {
    "collapsed": false,
    "scrolled": true
   },
   "outputs": [],
   "source": [
    "df"
   ]
  },
  {
   "cell_type": "code",
   "execution_count": null,
   "metadata": {
    "collapsed": false
   },
   "outputs": [],
   "source": [
    "end=time.time()\n",
    "end-start"
   ]
  }
 ],
 "metadata": {
  "anaconda-cloud": {},
  "kernelspec": {
   "display_name": "Python [Root]",
   "language": "python",
   "name": "Python [Root]"
  },
  "language_info": {
   "codemirror_mode": {
    "name": "ipython",
    "version": 3
   },
   "file_extension": ".py",
   "mimetype": "text/x-python",
   "name": "python",
   "nbconvert_exporter": "python",
   "pygments_lexer": "ipython3",
   "version": "3.5.2"
  }
 },
 "nbformat": 4,
 "nbformat_minor": 0
}
