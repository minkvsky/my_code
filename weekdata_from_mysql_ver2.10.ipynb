{
 "cells": [
  {
   "cell_type": "markdown",
   "metadata": {
    "collapsed": true
   },
   "source": [
    "#版本说明\n",
    "- ver2.10:增加5.6.1\n",
    "- ver2.9:去掉app_version异常数据\n",
    "- ver2.8:增加配件(5)\n",
    "- ver2.7:增加5.6版本\n",
    "- ver2.6:xlsx改成csv,No engine for filetype: 'csv',看来要加engine\n",
    "- ver2.5:修正uv合计，之前的都不正确，uv不能求和（无意义，涉及到去重）——未完成\n",
    "- ver2.4:需要增加如果超过一万行，则hit>10,处理搜索关键词过多，以前只在月数据中使用，修改了tidy\n",
    "- ver2.3:常规使用不必修改时间；非常规使用需要修改时间，同时可能需要修改table\n",
    "- ver2.2:[1,3,4]字符化['1','3','4']\n"
   ]
  },
  {
   "cell_type": "code",
   "execution_count": 3,
   "metadata": {
    "collapsed": false
   },
   "outputs": [],
   "source": [
    "import pymysql\n",
    "import pandas as pd\n",
    "import numpy as np\n",
    "import time\n",
    "from pandas import ExcelWriter\n",
    "import os\n",
    "\n",
    "db='gather_data'\n",
    "mydb = pymysql.connect(host=\"ip\",\n",
    "                       port=3300,\n",
    "                       user=\"root\",\n",
    "                       passwd=\"Ctyun001~\",\n",
    "                       db=db,\n",
    "                       charset='utf8'\n",
    "                     )"
   ]
  },
  {
   "cell_type": "markdown",
   "metadata": {},
   "source": [
    "# 以下两块为可能需要修改的地方"
   ]
  },
  {
   "cell_type": "code",
   "execution_count": 5,
   "metadata": {
    "collapsed": true
   },
   "outputs": [],
   "source": [
    "table='day_gather'"
   ]
  },
  {
   "cell_type": "markdown",
   "metadata": {
    "collapsed": true
   },
   "source": [
    "#用于临时选择时间，非常规\n",
    "startDate = \"'2016-07-11'\"\n",
    "endDate = \"'2016-07-17'\""
   ]
  },
  {
   "cell_type": "markdown",
   "metadata": {},
   "source": [
    "# global variables"
   ]
  },
  {
   "cell_type": "code",
   "execution_count": 6,
   "metadata": {
    "collapsed": false
   },
   "outputs": [
    {
     "data": {
      "text/plain": [
       "1471916196.7398002"
      ]
     },
     "execution_count": 6,
     "metadata": {},
     "output_type": "execute_result"
    }
   ],
   "source": [
    "starttime=time.time()\n",
    "starttime"
   ]
  },
  {
   "cell_type": "code",
   "execution_count": 7,
   "metadata": {
    "collapsed": true
   },
   "outputs": [],
   "source": [
    "import datetime\n",
    "today=datetime.date.today()\n",
    "start=today-datetime.timedelta(days=datetime.date.isoweekday(today)+6)\n",
    "startDate=\"'{}'\".format(str(start))\n",
    "end=today-datetime.timedelta(days=datetime.date.isoweekday(today))\n",
    "endDate=\"'{}'\".format(str(end))"
   ]
  },
  {
   "cell_type": "code",
   "execution_count": 8,
   "metadata": {
    "collapsed": false
   },
   "outputs": [
    {
     "data": {
      "text/plain": [
       "\"'2016-08-15'\""
      ]
     },
     "execution_count": 8,
     "metadata": {},
     "output_type": "execute_result"
    }
   ],
   "source": [
    "startDate"
   ]
  },
  {
   "cell_type": "code",
   "execution_count": 9,
   "metadata": {
    "collapsed": false
   },
   "outputs": [
    {
     "data": {
      "text/plain": [
       "\"'2016-08-21'\""
      ]
     },
     "execution_count": 9,
     "metadata": {},
     "output_type": "execute_result"
    }
   ],
   "source": [
    "endDate"
   ]
  },
  {
   "cell_type": "code",
   "execution_count": 10,
   "metadata": {
    "collapsed": true
   },
   "outputs": [],
   "source": [
    "#这里面没有sheet‘汇总’\n",
    "sheetname_list=['支付', '首页','更多', '导航按钮','查询办理' ,'搜索关键词', '我的' ]\n",
    "#app_version_4=['5.5.0', '5.4.0', '5.3.0', '5.2.0']\n",
    "\n",
    "date_type = \"'dayVCT'\""
   ]
  },
  {
   "cell_type": "code",
   "execution_count": 11,
   "metadata": {
    "collapsed": true
   },
   "outputs": [],
   "source": [
    "app_version_list=['5.6.1','5.6.0','5.5.0', '5.4.0', '5.3.0', '5.2.0',['5.6.1','5.6.0','5.5.0', '5.4.0', '5.3.0', '5.2.0'],\n",
    "                  ['5.0.0',\n",
    " '5.0.0(F)',\n",
    " '5.1.0(F)',\n",
    " '5.1.5(F)',\n",
    " '5.2.0',\n",
    " '5.3.0',\n",
    " '5.4.0',\n",
    " '5.5.0',\n",
    " '5.5.1',\n",
    " '5.6.0',\n",
    " '5.6.1']]"
   ]
  },
  {
   "cell_type": "code",
   "execution_count": 12,
   "metadata": {
    "collapsed": true
   },
   "outputs": [],
   "source": [
    "timeinterval='({}-{})'.format(''.join(startDate.split('-'))[1:-1],''.join(endDate.split('-'))[1:-1])"
   ]
  },
  {
   "cell_type": "code",
   "execution_count": 13,
   "metadata": {
    "collapsed": false
   },
   "outputs": [
    {
     "data": {
      "text/plain": [
       "'(20160815-20160821)'"
      ]
     },
     "execution_count": 13,
     "metadata": {},
     "output_type": "execute_result"
    }
   ],
   "source": [
    "timeinterval"
   ]
  },
  {
   "cell_type": "code",
   "execution_count": 14,
   "metadata": {
    "collapsed": true
   },
   "outputs": [],
   "source": [
    "folder='andriodweek'+timeinterval\n",
    "\n",
    "if not os.path.exists(folder):\n",
    "    os.mkdir(folder)"
   ]
  },
  {
   "cell_type": "markdown",
   "metadata": {},
   "source": [
    "# functions"
   ]
  },
  {
   "cell_type": "code",
   "execution_count": 15,
   "metadata": {
    "collapsed": true
   },
   "outputs": [],
   "source": [
    "def to_sqls(channel_name = None,\n",
    "            date_type = \"'dayVCT'\",\n",
    "            startDate = \"'2016-06-06'\",\n",
    "            endDate = \"'2016-06-12'\",\n",
    "            app_version = None,\n",
    "            table ='day_gather',\n",
    "            product_category = None):\n",
    "    '''app_version=\"'5.2.0'\"'''\n",
    "    \n",
    "    sql='select * from {} where type={} and create_date>={} and create_date<={}'\\\n",
    "    .format(table,date_type,startDate,endDate)\n",
    "    if not channel_name is None:\n",
    "        sql+=' and channel_name={}'.format(channel_name)\n",
    "    if not app_version is None:\n",
    "        sql+=' and app_version in {}'.format(app_version)\n",
    "    if not product_category is None :\n",
    "        sql+=' and product_category ={}'.format(product_category)\n",
    "    \n",
    "    return sql"
   ]
  },
  {
   "cell_type": "code",
   "execution_count": 16,
   "metadata": {
    "collapsed": true
   },
   "outputs": [],
   "source": [
    "def getto_df(sql):\n",
    "    return pd.read_sql(sql,con=mydb)"
   ]
  },
  {
   "cell_type": "code",
   "execution_count": 17,
   "metadata": {
    "collapsed": true
   },
   "outputs": [],
   "source": [
    "def df_tidy(df,index_name='module',channel_name=None):\n",
    "    '''\n",
    "    index_name='module'\n",
    "    调整reshape data\n",
    "    添加合计\n",
    "    '''\n",
    "    df1=df.iloc[:,1:].groupby([index_name,'create_date']).sum().unstack(1)\n",
    "    df=df1.sort_values(by=df1.columns[0],ascending=False)\n",
    "    \n",
    "    # 去掉index中过长字符列（通常是异常数据）\n",
    "    #df=df2.loc[list(map(right_len,df2.index))]\n",
    "    # 列名译成中文,\n",
    "    df=tranto_c_df(df)\n",
    "    # 去掉含'�'的行——这一行会提示warning，好像并不是，报错消失了\n",
    "    #df=df.loc[list(map(lambda x:'�' not in x,df.index))]\n",
    "    # 添加合计，此合计uv有误，汇总有误\n",
    "    df=add_sum(df)\n",
    "    #处理搜索关键词过多\n",
    "    if len(df)>10000 and channel_name== \"'搜索关键词'\":\n",
    "       df=df[df>10].dropna()\n",
    "    \n",
    "    return df"
   ]
  },
  {
   "cell_type": "code",
   "execution_count": 18,
   "metadata": {
    "collapsed": true
   },
   "outputs": [],
   "source": [
    "def tranto_c_df(df):\n",
    "    df1=df.stack()\n",
    "\n",
    "    df1.columns=tranto_c(df.stack().columns)\n",
    "\n",
    "    df2=df1.unstack()\n",
    "    \n",
    "    return df2\n",
    "\n",
    "def tranto_c(col,\n",
    "            e_col=['hits','hit','order_confirms', 'order_payment', 'product_details','visitors','visitor'],\n",
    "            c_col=['点击量','点击量','订单确认','订单支付','商品详情','访客量','访客量']):\n",
    "    '''翻译机\n",
    "    以下是字典\n",
    "    e_col中不能有相同元\n",
    "    '''\n",
    "    \n",
    "    temp=[]\n",
    "    for s in col:\n",
    "        if s in e_col:\n",
    "            temp.append(c_col[e_col.index(s)])\n",
    "        else:\n",
    "            temp.append(s)\n",
    "    return temp"
   ]
  },
  {
   "cell_type": "code",
   "execution_count": 19,
   "metadata": {
    "collapsed": true
   },
   "outputs": [],
   "source": [
    "def right_len(s,size=18):\n",
    "    '''type(s):string'''\n",
    "    if len(s)<size:\n",
    "        return True\n",
    "    else:\n",
    "        return False"
   ]
  },
  {
   "cell_type": "code",
   "execution_count": 20,
   "metadata": {
    "collapsed": true
   },
   "outputs": [],
   "source": [
    "def add_sum(df):\n",
    "    '''\n",
    "    添加合计'''\n",
    "    df1=df.groupby(level=0,axis=1).sum()\n",
    "\n",
    "    for s in df.stack().columns:\n",
    "        df[(s,'合计')]=df1[s]\n",
    "\n",
    "    df2=df.stack().unstack()\n",
    "\n",
    "    df2.loc['合计',:]=df2.sum()\n",
    "\n",
    "    df3=df2.sort_values(by=df2.columns[0],ascending=False)\n",
    "    \n",
    "    return df3"
   ]
  },
  {
   "cell_type": "code",
   "execution_count": 21,
   "metadata": {
    "collapsed": true
   },
   "outputs": [],
   "source": [
    "def to_tuple_sql(app_version):\n",
    "    if type(app_version) == str:\n",
    "        temp=list([app_version])\n",
    "        temp.append('all')\n",
    "        return tuple(temp)\n",
    "    if type(app_version) == list:\n",
    "        return tuple(app_version)"
   ]
  },
  {
   "cell_type": "code",
   "execution_count": 22,
   "metadata": {
    "collapsed": false,
    "scrolled": true
   },
   "outputs": [],
   "source": [
    "def to_excel(timeinterval,sheetname_list=sheetname_list,folder=folder,app_version=None):\n",
    "    '''仅安卓可用\n",
    "    可以用可变参数把app_version 和app_version_list统一起来\n",
    "    app_version_list=\"('5.5.0','5.4.0','5.3.0','5.2.0')\"\n",
    "    appversion= \"'5.5.0'\" or \"('5.5.0','5.4.0','5.3.0','5.2.0')\"\n",
    "    string,list,None(all versions)\n",
    "    '''\n",
    "    #list to_string \"'5.5.0'\" or \"('5.5.0','5.4.0','5.3.0','5.2.0')\"\n",
    "    if app_version is None:\n",
    "        pathnew=folder+'/'+'andriod'+\"'all'\"+timeinterval+'.xlsx'\n",
    "        dict_sum={}\n",
    "        with ExcelWriter(pathnew,datetime_format='yyyy/mm/dd') as writer:\n",
    "            for s in sheetname_list:\n",
    "                if s == '汇总':\n",
    "                    channel_name= None\n",
    "                else:\n",
    "                    channel_name=\"'{}'\".format(s)\n",
    "\n",
    "                sql=to_sqls(channel_name = channel_name,\n",
    "                            date_type = date_type,\n",
    "                            startDate =startDate,\n",
    "                            endDate = endDate,\n",
    "                            app_version = app_version,\n",
    "                            table=table)\n",
    "                df=df_tidy(getto_df(sql),channel_name=channel_name)\n",
    "                dict_sum[s]=df.iloc[0]\n",
    "                df.to_excel(writer,sheet_name=s)\n",
    "            #汇总sheet\n",
    "            df_sum=pd.DataFrame(dict_sum)\n",
    "            df_sum.T.to_excel(writer,sheet_name='汇总',index_label='module')\n",
    "                \n",
    "                \n",
    "    if not app_version is None:\n",
    "        pathnew=folder+'/'+'andriod'+str(app_version)+timeinterval+'.xlsx'\n",
    "        dict_sum={}\n",
    "        with ExcelWriter(pathnew,datetime_format='yyyy/mm/dd') as writer:\n",
    "            for s in sheetname_list:\n",
    "                if s == '汇总':\n",
    "                    channel_name= None\n",
    "                else:\n",
    "                    channel_name=\"'{}'\".format(s)\n",
    "\n",
    "                sql=to_sqls(channel_name = channel_name,\n",
    "                            date_type = date_type,\n",
    "                            startDate =startDate,\n",
    "                            endDate = endDate,\n",
    "                            app_version = \"{}\".format(to_tuple_sql(app_version)),\n",
    "                            table=table)\n",
    "                df=df_tidy(getto_df(sql),channel_name=channel_name)\n",
    "                dict_sum[s]=df.iloc[0]\n",
    "                df.to_excel(writer,sheet_name=s)\n",
    "            #汇总sheet\n",
    "            df_sum=pd.DataFrame(dict_sum)\n",
    "            df_sum.T.to_excel(writer,sheet_name='汇总',index_label='module')"
   ]
  },
  {
   "cell_type": "code",
   "execution_count": 23,
   "metadata": {
    "collapsed": false
   },
   "outputs": [],
   "source": [
    "for s in app_version_list:\n",
    "    to_excel(timeinterval,sheetname_list=sheetname_list,folder=folder,app_version=s)"
   ]
  },
  {
   "cell_type": "markdown",
   "metadata": {},
   "source": [
    "# 商品数据"
   ]
  },
  {
   "cell_type": "code",
   "execution_count": 24,
   "metadata": {
    "collapsed": true
   },
   "outputs": [],
   "source": [
    "pathnew=folder+'/'+'andriod'+'商品数据'+timeinterval+'.xlsx'\n",
    "\n",
    "writer=ExcelWriter(pathnew,datetime_format='yyyy/mm/dd')\n",
    "\n",
    "table = 's_product_gather'"
   ]
  },
  {
   "cell_type": "code",
   "execution_count": 25,
   "metadata": {
    "collapsed": true
   },
   "outputs": [],
   "source": [
    "product_category_list=[1,3,4,5]\n",
    "p_c_list=['手机','套餐','号码','配件']"
   ]
  },
  {
   "cell_type": "code",
   "execution_count": 26,
   "metadata": {
    "collapsed": true
   },
   "outputs": [],
   "source": [
    "date_type = \"'dayCP'\"\n",
    "for i,s in enumerate(product_category_list):\n",
    "    sql=to_sqls(date_type = date_type,\n",
    "                startDate =startDate,\n",
    "                endDate = endDate,\n",
    "                table=table,\n",
    "                product_category = s)\n",
    "    df=df_tidy(getto_df(sql),index_name='product')\n",
    "    df.to_excel(writer,sheet_name=p_c_list[i])"
   ]
  },
  {
   "cell_type": "code",
   "execution_count": 27,
   "metadata": {
    "collapsed": true
   },
   "outputs": [],
   "source": [
    "    \n",
    "date_type = \"'dayCT'\"\n",
    "sql=to_sqls(date_type = date_type,\n",
    "            startDate =startDate,\n",
    "            endDate = endDate,\n",
    "            table=table,\n",
    "            )\n",
    "df=df_tidy(getto_df(sql),index_name='product_category')\n",
    "#去掉index 0,5\n",
    "df=df.iloc[0:4,:]  \n",
    "# create a new dataframe\n",
    "newindex=pd.Index(tranto_c(df.index,[str(x) for x in product_category_list],p_c_list),name=df.index.name)\n",
    "df1=pd.DataFrame(df.values,index=newindex,columns=df.columns)\n",
    "df1.to_excel(writer,sheet_name='汇总')"
   ]
  },
  {
   "cell_type": "code",
   "execution_count": 28,
   "metadata": {
    "collapsed": false
   },
   "outputs": [],
   "source": [
    "date_type =\"'dayS'\"\n",
    "sql=to_sqls(date_type = date_type,\n",
    "            startDate =startDate,\n",
    "            endDate = endDate,\n",
    "            table=table,\n",
    "            )\n",
    "df=df_tidy(getto_df(sql),index_name='product')\n",
    "df.to_excel(writer,sheet_name='商品优惠')\n",
    "\n",
    "writer.save()"
   ]
  },
  {
   "cell_type": "code",
   "execution_count": 29,
   "metadata": {
    "collapsed": false
   },
   "outputs": [
    {
     "data": {
      "text/plain": [
       "129.47551107406616"
      ]
     },
     "execution_count": 29,
     "metadata": {},
     "output_type": "execute_result"
    }
   ],
   "source": [
    "endtime=time.time()\n",
    "endtime-starttime"
   ]
  }
 ],
 "metadata": {
  "anaconda-cloud": {},
  "kernelspec": {
   "display_name": "Python [Root]",
   "language": "python",
   "name": "Python [Root]"
  },
  "language_info": {
   "codemirror_mode": {
    "name": "ipython",
    "version": 3
   },
   "file_extension": ".py",
   "mimetype": "text/x-python",
   "name": "python",
   "nbconvert_exporter": "python",
   "pygments_lexer": "ipython3",
   "version": "3.5.2"
  }
 },
 "nbformat": 4,
 "nbformat_minor": 0
}
